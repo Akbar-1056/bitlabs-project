{
  "nbformat": 4,
  "nbformat_minor": 0,
  "metadata": {
    "colab": {
      "provenance": [],
      "mount_file_id": "1WeeWjLN8OQto1Gj4B_1H16lmn7GjKvrF",
      "authorship_tag": "ABX9TyM13b6hRxVUPde0QVfAEV9X",
      "include_colab_link": true
    },
    "kernelspec": {
      "name": "python3",
      "display_name": "Python 3"
    },
    "language_info": {
      "name": "python"
    }
  },
  "cells": [
    {
      "cell_type": "markdown",
      "metadata": {
        "id": "view-in-github",
        "colab_type": "text"
      },
      "source": [
        "<a href=\"https://colab.research.google.com/github/Akbar-1056/bitlabs-project/blob/main/mid_term_bitlabs.ipynb\" target=\"_parent\"><img src=\"https://colab.research.google.com/assets/colab-badge.svg\" alt=\"Open In Colab\"/></a>"
      ]
    },
    {
      "cell_type": "code",
      "source": [
        "from google.colab import drive\n",
        "drive.mount('/content/drive')\n"
      ],
      "metadata": {
        "colab": {
          "base_uri": "https://localhost:8080/"
        },
        "id": "_QxQJQ9Q59bN",
        "outputId": "c7cb9be7-8ebe-4d2a-c0e5-22d43edc556b"
      },
      "execution_count": null,
      "outputs": [
        {
          "output_type": "stream",
          "name": "stdout",
          "text": [
            "Drive already mounted at /content/drive; to attempt to forcibly remount, call drive.mount(\"/content/drive\", force_remount=True).\n"
          ]
        }
      ]
    },
    {
      "cell_type": "code",
      "source": [
        "import pandas as pd\n",
        "df = pd.read_csv('/content/drive/MyDrive/data_set_mid_term/midterm_hotel_data.csv')\n",
        "\n",
        "\n"
      ],
      "metadata": {
        "id": "OQePLD0R6O_O"
      },
      "execution_count": null,
      "outputs": []
    },
    {
      "cell_type": "code",
      "source": [
        "# mengecek nilai yang kosong dan mengisi kolom yang kosong dengan 0\n",
        "df.isnull().sum()\n",
        "df.loc[:, ['lead_time','stays_in_week_nights','children','agent','company','total_of_special_requests']] = df[['lead_time','stays_in_week_nights','children','agent','company','total_of_special_requests']].fillna(0)\n",
        "print(df)"
      ],
      "metadata": {
        "colab": {
          "base_uri": "https://localhost:8080/"
        },
        "id": "Ye9Z_qkF_xv-",
        "outputId": "1b10c059-ce75-4d97-a2e3-bd0a403ce07e"
      },
      "execution_count": null,
      "outputs": [
        {
          "output_type": "stream",
          "name": "stdout",
          "text": [
            "        Unnamed: 0         hotel  is_canceled  lead_time  arrival_date_year  \\\n",
            "0                0  Resort Hotel            0      342.0               2015   \n",
            "1                1  Resort Hotel            0      737.0               2015   \n",
            "2                2  Resort Hotel            0        7.0               2015   \n",
            "3                3  Resort Hotel            0       13.0               2015   \n",
            "4                4  Resort Hotel            0        0.0               2015   \n",
            "...            ...           ...          ...        ...                ...   \n",
            "119385      119385    City Hotel            0       23.0               2017   \n",
            "119386      119386    City Hotel            0        0.0               2017   \n",
            "119387      119387    City Hotel            0        0.0               2017   \n",
            "119388      119388    City Hotel            0      109.0               2017   \n",
            "119389      119389    City Hotel            0      205.0               2017   \n",
            "\n",
            "       arrival_date_month  arrival_date_week_number  \\\n",
            "0                    July                        27   \n",
            "1                    July                        27   \n",
            "2                    July                        27   \n",
            "3                    July                        27   \n",
            "4                    July                        27   \n",
            "...                   ...                       ...   \n",
            "119385             August                        35   \n",
            "119386             August                        35   \n",
            "119387             August                        35   \n",
            "119388             August                        35   \n",
            "119389             August                        35   \n",
            "\n",
            "        arrival_date_day_of_month  stays_in_weekend_nights  \\\n",
            "0                               1                      NaN   \n",
            "1                               1                      0.0   \n",
            "2                               1                      NaN   \n",
            "3                               1                      0.0   \n",
            "4                               1                      0.0   \n",
            "...                           ...                      ...   \n",
            "119385                         30                      2.0   \n",
            "119386                         31                      NaN   \n",
            "119387                         31                      2.0   \n",
            "119388                         31                      NaN   \n",
            "119389                         29                      NaN   \n",
            "\n",
            "        stays_in_week_nights  ...  customer_type     adr  \\\n",
            "0                          0  ...      Transient    0.00   \n",
            "1                          0  ...      Transient    0.00   \n",
            "2                          1  ...      Transient   75.00   \n",
            "3                          1  ...      Transient     NaN   \n",
            "4                          2  ...      Transient   98.00   \n",
            "...                      ...  ...            ...     ...   \n",
            "119385                     5  ...      Transient     NaN   \n",
            "119386                     5  ...      Transient  225.43   \n",
            "119387                     5  ...      Transient  157.71   \n",
            "119388                     5  ...      Transient  104.40   \n",
            "119389                     7  ...      Transient  151.20   \n",
            "\n",
            "        required_car_parking_spaces total_of_special_requests  \\\n",
            "0                                 0                       0.0   \n",
            "1                                 0                       0.0   \n",
            "2                                 0                       0.0   \n",
            "3                                 0                       0.0   \n",
            "4                                 0                       0.0   \n",
            "...                             ...                       ...   \n",
            "119385                            0                       0.0   \n",
            "119386                            0                       2.0   \n",
            "119387                            0                       0.0   \n",
            "119388                            0                       0.0   \n",
            "119389                            0                       0.0   \n",
            "\n",
            "       reservation_status reservation_status_date                name  \\\n",
            "0               Check-Out              2015-07-01       Ernest Barnes   \n",
            "1               Check-Out              2015-07-01        Andrea Baker   \n",
            "2               Check-Out              2015-07-02      Rebecca Parker   \n",
            "3               Check-Out              2015-07-02        Laura Murray   \n",
            "4               Check-Out              2015-07-03         Linda Hines   \n",
            "...                   ...                     ...                 ...   \n",
            "119385          Check-Out              2017-09-06     Claudia Johnson   \n",
            "119386          Check-Out              2017-09-07      Wesley Aguilar   \n",
            "119387          Check-Out              2017-09-07        Mary Morales   \n",
            "119388          Check-Out              2017-09-07  Caroline Conley MD   \n",
            "119389          Check-Out              2017-09-07      Ariana Michael   \n",
            "\n",
            "                              email  phone-number       credit_card  \n",
            "0       Ernest.Barnes31@outlook.com  669-792-1661  ************4322  \n",
            "1            Andrea_Baker94@aol.com  858-637-6955  ************9157  \n",
            "2        Rebecca_Parker@comcast.net  652-885-2745  ************3734  \n",
            "3                 Laura_M@gmail.com  364-656-8427  ************5677  \n",
            "4                LHines@verizon.com  713-226-5883  ************5498  \n",
            "...                             ...           ...               ...  \n",
            "119385          Claudia.J@yahoo.com  403-092-5582  ************8647  \n",
            "119386         WAguilar@xfinity.com  238-763-0612  ************4333  \n",
            "119387     Mary_Morales@hotmail.com  395-518-4100  ************1821  \n",
            "119388      MD_Caroline@comcast.net  531-528-1017  ************7860  \n",
            "119389         Ariana_M@xfinity.com  422-804-6403  ************4482  \n",
            "\n",
            "[119390 rows x 37 columns]\n"
          ]
        }
      ]
    },
    {
      "cell_type": "code",
      "source": [
        "# mengisi value data numeric dengan median dan mengubah data float menjadi numeric\n",
        "numeric_df = df.select_dtypes(include=['number'])\n",
        "df[numeric_df.columns] = df[numeric_df.columns].fillna(numeric_df.median())\n",
        "df['adults'] = df['adults'].fillna(df['adults'].median())\n",
        "\n",
        "#mengisi data kategorical\n",
        "df['country'] = df['country'].fillna('Unknown')\n",
        "\n",
        "# hapus kolom index bawaan\n",
        "df = df.loc[:, ~df.columns.str.contains('^Unnamed')]\n",
        "\n",
        "print(df)"
      ],
      "metadata": {
        "colab": {
          "base_uri": "https://localhost:8080/"
        },
        "id": "QS3A1sdkBVKr",
        "outputId": "77102f62-0bcd-43a8-a05b-37ddc9e3d9d8"
      },
      "execution_count": null,
      "outputs": [
        {
          "output_type": "stream",
          "name": "stdout",
          "text": [
            "               hotel  is_canceled  lead_time  arrival_date_year  \\\n",
            "0       Resort Hotel            0      342.0               2015   \n",
            "1       Resort Hotel            0      737.0               2015   \n",
            "2       Resort Hotel            0        7.0               2015   \n",
            "3       Resort Hotel            0       13.0               2015   \n",
            "4       Resort Hotel            0        0.0               2015   \n",
            "...              ...          ...        ...                ...   \n",
            "119385    City Hotel            0       23.0               2017   \n",
            "119386    City Hotel            0        0.0               2017   \n",
            "119387    City Hotel            0        0.0               2017   \n",
            "119388    City Hotel            0      109.0               2017   \n",
            "119389    City Hotel            0      205.0               2017   \n",
            "\n",
            "       arrival_date_month  arrival_date_week_number  \\\n",
            "0                    July                        27   \n",
            "1                    July                        27   \n",
            "2                    July                        27   \n",
            "3                    July                        27   \n",
            "4                    July                        27   \n",
            "...                   ...                       ...   \n",
            "119385             August                        35   \n",
            "119386             August                        35   \n",
            "119387             August                        35   \n",
            "119388             August                        35   \n",
            "119389             August                        35   \n",
            "\n",
            "        arrival_date_day_of_month  stays_in_weekend_nights  \\\n",
            "0                               1                      1.0   \n",
            "1                               1                      0.0   \n",
            "2                               1                      1.0   \n",
            "3                               1                      0.0   \n",
            "4                               1                      0.0   \n",
            "...                           ...                      ...   \n",
            "119385                         30                      2.0   \n",
            "119386                         31                      1.0   \n",
            "119387                         31                      2.0   \n",
            "119388                         31                      1.0   \n",
            "119389                         29                      1.0   \n",
            "\n",
            "        stays_in_week_nights  adults  ...  customer_type     adr  \\\n",
            "0                          0     2.0  ...      Transient    0.00   \n",
            "1                          0     2.0  ...      Transient    0.00   \n",
            "2                          1     1.0  ...      Transient   75.00   \n",
            "3                          1     1.0  ...      Transient   95.00   \n",
            "4                          2     2.0  ...      Transient   98.00   \n",
            "...                      ...     ...  ...            ...     ...   \n",
            "119385                     5     2.0  ...      Transient   95.00   \n",
            "119386                     5     2.0  ...      Transient  225.43   \n",
            "119387                     5     2.0  ...      Transient  157.71   \n",
            "119388                     5     2.0  ...      Transient  104.40   \n",
            "119389                     7     2.0  ...      Transient  151.20   \n",
            "\n",
            "       required_car_parking_spaces total_of_special_requests  \\\n",
            "0                                0                       0.0   \n",
            "1                                0                       0.0   \n",
            "2                                0                       0.0   \n",
            "3                                0                       0.0   \n",
            "4                                0                       0.0   \n",
            "...                            ...                       ...   \n",
            "119385                           0                       0.0   \n",
            "119386                           0                       2.0   \n",
            "119387                           0                       0.0   \n",
            "119388                           0                       0.0   \n",
            "119389                           0                       0.0   \n",
            "\n",
            "       reservation_status reservation_status_date                name  \\\n",
            "0               Check-Out              2015-07-01       Ernest Barnes   \n",
            "1               Check-Out              2015-07-01        Andrea Baker   \n",
            "2               Check-Out              2015-07-02      Rebecca Parker   \n",
            "3               Check-Out              2015-07-02        Laura Murray   \n",
            "4               Check-Out              2015-07-03         Linda Hines   \n",
            "...                   ...                     ...                 ...   \n",
            "119385          Check-Out              2017-09-06     Claudia Johnson   \n",
            "119386          Check-Out              2017-09-07      Wesley Aguilar   \n",
            "119387          Check-Out              2017-09-07        Mary Morales   \n",
            "119388          Check-Out              2017-09-07  Caroline Conley MD   \n",
            "119389          Check-Out              2017-09-07      Ariana Michael   \n",
            "\n",
            "                              email  phone-number       credit_card  \n",
            "0       Ernest.Barnes31@outlook.com  669-792-1661  ************4322  \n",
            "1            Andrea_Baker94@aol.com  858-637-6955  ************9157  \n",
            "2        Rebecca_Parker@comcast.net  652-885-2745  ************3734  \n",
            "3                 Laura_M@gmail.com  364-656-8427  ************5677  \n",
            "4                LHines@verizon.com  713-226-5883  ************5498  \n",
            "...                             ...           ...               ...  \n",
            "119385          Claudia.J@yahoo.com  403-092-5582  ************8647  \n",
            "119386         WAguilar@xfinity.com  238-763-0612  ************4333  \n",
            "119387     Mary_Morales@hotmail.com  395-518-4100  ************1821  \n",
            "119388      MD_Caroline@comcast.net  531-528-1017  ************7860  \n",
            "119389         Ariana_M@xfinity.com  422-804-6403  ************4482  \n",
            "\n",
            "[119390 rows x 36 columns]\n"
          ]
        }
      ]
    },
    {
      "cell_type": "code",
      "source": [],
      "metadata": {
        "id": "TKVZHKggCtGz"
      },
      "execution_count": null,
      "outputs": []
    }
  ]
}