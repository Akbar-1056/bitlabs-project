{
  "nbformat": 4,
  "nbformat_minor": 0,
  "metadata": {
    "colab": {
      "provenance": [],
      "include_colab_link": true
    },
    "kernelspec": {
      "name": "python3",
      "display_name": "Python 3"
    },
    "language_info": {
      "name": "python"
    }
  },
  "cells": [
    {
      "cell_type": "markdown",
      "metadata": {
        "id": "view-in-github",
        "colab_type": "text"
      },
      "source": [
        "<a href=\"https://colab.research.google.com/github/Akbar-1056/bitlabs-project/blob/main/mid_term_bitlabs.ipynb\" target=\"_parent\"><img src=\"https://colab.research.google.com/assets/colab-badge.svg\" alt=\"Open In Colab\"/></a>"
      ]
    },
    {
      "cell_type": "code",
      "source": [
        "!git clone https://github.com/Akbar-1056/bitlabs-project.git\n"
      ],
      "metadata": {
        "id": "yrzvL1bJR66p",
        "outputId": "81ca7715-380d-42af-b5af-00ac88aac83a",
        "colab": {
          "base_uri": "https://localhost:8080/"
        }
      },
      "execution_count": null,
      "outputs": [
        {
          "output_type": "stream",
          "name": "stdout",
          "text": [
            "Cloning into 'bitlabs-project'...\n",
            "fatal: could not read Username for 'https://github.com': No such device or address\n"
          ]
        }
      ]
    },
    {
      "cell_type": "code",
      "source": [
        "# Install library (contoh untuk MySQL)\n",
        "!pip install mysql-connector-python"
      ],
      "metadata": {
        "id": "WxvexvW-4E5z",
        "outputId": "2758d5e2-6fcd-4a24-d3a2-3d12bb098580",
        "colab": {
          "base_uri": "https://localhost:8080/"
        }
      },
      "execution_count": 18,
      "outputs": [
        {
          "output_type": "stream",
          "name": "stdout",
          "text": [
            "Requirement already satisfied: mysql-connector-python in /usr/local/lib/python3.10/dist-packages (9.1.0)\n",
            "Requirement already satisfied: mysql-connector-python in /usr/local/lib/python3.10/dist-packages (9.1.0)\n"
          ]
        }
      ]
    },
    {
      "cell_type": "code",
      "source": [
        "import mysql.connector\n",
        "\n",
        "# Buat koneksi ke database MySQL\n",
        "db = mysql.connector.connect(\n",
        "    host='localhost',\n",
        "    user='root',\n",
        "    password='',\n",
        "    database='';\n",
        ")\n",
        "\n",
        "if db.is_connected():\n",
        "    print('Koneksi berhasil');\n"
      ],
      "metadata": {
        "id": "j3wCpRjJ9aC8",
        "outputId": "b3a67baf-c18f-4b2e-8844-bb42854ee2b1",
        "colab": {
          "base_uri": "https://localhost:8080/",
          "height": 418
        }
      },
      "execution_count": 32,
      "outputs": [
        {
          "output_type": "error",
          "ename": "DatabaseError",
          "evalue": "2003 (HY000): Can't connect to MySQL server on 'localhost:3306' (99)",
          "traceback": [
            "\u001b[0;31m---------------------------------------------------------------------------\u001b[0m",
            "\u001b[0;31mMySQLInterfaceError\u001b[0m                       Traceback (most recent call last)",
            "\u001b[0;32m/usr/local/lib/python3.10/dist-packages/mysql/connector/connection_cext.py\u001b[0m in \u001b[0;36m_open_connection\u001b[0;34m(self)\u001b[0m\n\u001b[1;32m    334\u001b[0m         \u001b[0;32mtry\u001b[0m\u001b[0;34m:\u001b[0m\u001b[0;34m\u001b[0m\u001b[0;34m\u001b[0m\u001b[0m\n\u001b[0;32m--> 335\u001b[0;31m             \u001b[0mself\u001b[0m\u001b[0;34m.\u001b[0m\u001b[0m_cmysql\u001b[0m\u001b[0;34m.\u001b[0m\u001b[0mconnect\u001b[0m\u001b[0;34m(\u001b[0m\u001b[0;34m**\u001b[0m\u001b[0mcnx_kwargs\u001b[0m\u001b[0;34m)\u001b[0m\u001b[0;34m\u001b[0m\u001b[0;34m\u001b[0m\u001b[0m\n\u001b[0m\u001b[1;32m    336\u001b[0m             \u001b[0mself\u001b[0m\u001b[0;34m.\u001b[0m\u001b[0m_cmysql\u001b[0m\u001b[0;34m.\u001b[0m\u001b[0mconverter_str_fallback\u001b[0m \u001b[0;34m=\u001b[0m \u001b[0mself\u001b[0m\u001b[0;34m.\u001b[0m\u001b[0m_converter_str_fallback\u001b[0m\u001b[0;34m\u001b[0m\u001b[0;34m\u001b[0m\u001b[0m\n",
            "\u001b[0;31mMySQLInterfaceError\u001b[0m: Can't connect to MySQL server on 'localhost:3306' (99)",
            "\nThe above exception was the direct cause of the following exception:\n",
            "\u001b[0;31mDatabaseError\u001b[0m                             Traceback (most recent call last)",
            "\u001b[0;32m<ipython-input-32-bc95fd8cae97>\u001b[0m in \u001b[0;36m<cell line: 4>\u001b[0;34m()\u001b[0m\n\u001b[1;32m      2\u001b[0m \u001b[0;34m\u001b[0m\u001b[0m\n\u001b[1;32m      3\u001b[0m \u001b[0;31m# Buat koneksi ke database MySQL\u001b[0m\u001b[0;34m\u001b[0m\u001b[0;34m\u001b[0m\u001b[0m\n\u001b[0;32m----> 4\u001b[0;31m db = mysql.connector.connect(\n\u001b[0m\u001b[1;32m      5\u001b[0m     \u001b[0mhost\u001b[0m\u001b[0;34m=\u001b[0m\u001b[0;34m'localhost'\u001b[0m\u001b[0;34m,\u001b[0m\u001b[0;34m\u001b[0m\u001b[0;34m\u001b[0m\u001b[0m\n\u001b[1;32m      6\u001b[0m     \u001b[0muser\u001b[0m\u001b[0;34m=\u001b[0m\u001b[0;34m'root'\u001b[0m\u001b[0;34m,\u001b[0m\u001b[0;34m\u001b[0m\u001b[0;34m\u001b[0m\u001b[0m\n",
            "\u001b[0;32m/usr/local/lib/python3.10/dist-packages/mysql/connector/pooling.py\u001b[0m in \u001b[0;36mconnect\u001b[0;34m(*args, **kwargs)\u001b[0m\n\u001b[1;32m    320\u001b[0m \u001b[0;34m\u001b[0m\u001b[0m\n\u001b[1;32m    321\u001b[0m     \u001b[0;32mif\u001b[0m \u001b[0mCMySQLConnection\u001b[0m \u001b[0;32mand\u001b[0m \u001b[0;32mnot\u001b[0m \u001b[0muse_pure\u001b[0m\u001b[0;34m:\u001b[0m\u001b[0;34m\u001b[0m\u001b[0;34m\u001b[0m\u001b[0m\n\u001b[0;32m--> 322\u001b[0;31m         \u001b[0;32mreturn\u001b[0m \u001b[0mCMySQLConnection\u001b[0m\u001b[0;34m(\u001b[0m\u001b[0;34m*\u001b[0m\u001b[0margs\u001b[0m\u001b[0;34m,\u001b[0m \u001b[0;34m**\u001b[0m\u001b[0mkwargs\u001b[0m\u001b[0;34m)\u001b[0m\u001b[0;34m\u001b[0m\u001b[0;34m\u001b[0m\u001b[0m\n\u001b[0m\u001b[1;32m    323\u001b[0m     \u001b[0;32mreturn\u001b[0m \u001b[0mMySQLConnection\u001b[0m\u001b[0;34m(\u001b[0m\u001b[0;34m*\u001b[0m\u001b[0margs\u001b[0m\u001b[0;34m,\u001b[0m \u001b[0;34m**\u001b[0m\u001b[0mkwargs\u001b[0m\u001b[0;34m)\u001b[0m\u001b[0;34m\u001b[0m\u001b[0;34m\u001b[0m\u001b[0m\n\u001b[1;32m    324\u001b[0m \u001b[0;34m\u001b[0m\u001b[0m\n",
            "\u001b[0;32m/usr/local/lib/python3.10/dist-packages/mysql/connector/connection_cext.py\u001b[0m in \u001b[0;36m__init__\u001b[0;34m(self, **kwargs)\u001b[0m\n\u001b[1;32m    149\u001b[0m         \u001b[0;32mif\u001b[0m \u001b[0mkwargs\u001b[0m\u001b[0;34m:\u001b[0m\u001b[0;34m\u001b[0m\u001b[0;34m\u001b[0m\u001b[0m\n\u001b[1;32m    150\u001b[0m             \u001b[0;32mtry\u001b[0m\u001b[0;34m:\u001b[0m\u001b[0;34m\u001b[0m\u001b[0;34m\u001b[0m\u001b[0m\n\u001b[0;32m--> 151\u001b[0;31m                 \u001b[0mself\u001b[0m\u001b[0;34m.\u001b[0m\u001b[0mconnect\u001b[0m\u001b[0;34m(\u001b[0m\u001b[0;34m**\u001b[0m\u001b[0mkwargs\u001b[0m\u001b[0;34m)\u001b[0m\u001b[0;34m\u001b[0m\u001b[0;34m\u001b[0m\u001b[0m\n\u001b[0m\u001b[1;32m    152\u001b[0m             \u001b[0;32mexcept\u001b[0m \u001b[0mException\u001b[0m\u001b[0;34m:\u001b[0m\u001b[0;34m\u001b[0m\u001b[0;34m\u001b[0m\u001b[0m\n\u001b[1;32m    153\u001b[0m                 \u001b[0mself\u001b[0m\u001b[0;34m.\u001b[0m\u001b[0mclose\u001b[0m\u001b[0;34m(\u001b[0m\u001b[0;34m)\u001b[0m\u001b[0;34m\u001b[0m\u001b[0;34m\u001b[0m\u001b[0m\n",
            "\u001b[0;32m/usr/local/lib/python3.10/dist-packages/mysql/connector/abstracts.py\u001b[0m in \u001b[0;36mconnect\u001b[0;34m(self, **kwargs)\u001b[0m\n\u001b[1;32m   1424\u001b[0m \u001b[0;34m\u001b[0m\u001b[0m\n\u001b[1;32m   1425\u001b[0m         \u001b[0mself\u001b[0m\u001b[0;34m.\u001b[0m\u001b[0mdisconnect\u001b[0m\u001b[0;34m(\u001b[0m\u001b[0;34m)\u001b[0m\u001b[0;34m\u001b[0m\u001b[0;34m\u001b[0m\u001b[0m\n\u001b[0;32m-> 1426\u001b[0;31m         \u001b[0mself\u001b[0m\u001b[0;34m.\u001b[0m\u001b[0m_open_connection\u001b[0m\u001b[0;34m(\u001b[0m\u001b[0;34m)\u001b[0m\u001b[0;34m\u001b[0m\u001b[0;34m\u001b[0m\u001b[0m\n\u001b[0m\u001b[1;32m   1427\u001b[0m \u001b[0;34m\u001b[0m\u001b[0m\n\u001b[1;32m   1428\u001b[0m         charset, collation = (\n",
            "\u001b[0;32m/usr/local/lib/python3.10/dist-packages/mysql/connector/connection_cext.py\u001b[0m in \u001b[0;36m_open_connection\u001b[0;34m(self)\u001b[0m\n\u001b[1;32m    338\u001b[0m                 \u001b[0mself\u001b[0m\u001b[0;34m.\u001b[0m\u001b[0mconverter\u001b[0m\u001b[0;34m.\u001b[0m\u001b[0mstr_fallback\u001b[0m \u001b[0;34m=\u001b[0m \u001b[0mself\u001b[0m\u001b[0;34m.\u001b[0m\u001b[0m_converter_str_fallback\u001b[0m\u001b[0;34m\u001b[0m\u001b[0;34m\u001b[0m\u001b[0m\n\u001b[1;32m    339\u001b[0m         \u001b[0;32mexcept\u001b[0m \u001b[0mMySQLInterfaceError\u001b[0m \u001b[0;32mas\u001b[0m \u001b[0merr\u001b[0m\u001b[0;34m:\u001b[0m\u001b[0;34m\u001b[0m\u001b[0;34m\u001b[0m\u001b[0m\n\u001b[0;32m--> 340\u001b[0;31m             raise get_mysql_exception(\n\u001b[0m\u001b[1;32m    341\u001b[0m                 \u001b[0mmsg\u001b[0m\u001b[0;34m=\u001b[0m\u001b[0merr\u001b[0m\u001b[0;34m.\u001b[0m\u001b[0mmsg\u001b[0m\u001b[0;34m,\u001b[0m \u001b[0merrno\u001b[0m\u001b[0;34m=\u001b[0m\u001b[0merr\u001b[0m\u001b[0;34m.\u001b[0m\u001b[0merrno\u001b[0m\u001b[0;34m,\u001b[0m \u001b[0msqlstate\u001b[0m\u001b[0;34m=\u001b[0m\u001b[0merr\u001b[0m\u001b[0;34m.\u001b[0m\u001b[0msqlstate\u001b[0m\u001b[0;34m\u001b[0m\u001b[0;34m\u001b[0m\u001b[0m\n\u001b[1;32m    342\u001b[0m             ) from err\n",
            "\u001b[0;31mDatabaseError\u001b[0m: 2003 (HY000): Can't connect to MySQL server on 'localhost:3306' (99)"
          ]
        }
      ]
    },
    {
      "cell_type": "code",
      "source": [
        "from google.colab import drive\n",
        "drive.mount('/content/drive')\n"
      ],
      "metadata": {
        "colab": {
          "base_uri": "https://localhost:8080/"
        },
        "id": "_QxQJQ9Q59bN",
        "outputId": "c7cb9be7-8ebe-4d2a-c0e5-22d43edc556b"
      },
      "execution_count": null,
      "outputs": [
        {
          "output_type": "stream",
          "name": "stdout",
          "text": [
            "Drive already mounted at /content/drive; to attempt to forcibly remount, call drive.mount(\"/content/drive\", force_remount=True).\n"
          ]
        }
      ]
    },
    {
      "cell_type": "code",
      "source": [
        "import pandas as pd\n",
        "import seaborn as sns\n",
        "import matplotlib.pyplot as plt\n",
        "df = pd.read_csv('/content/drive/MyDrive/data_set_mid_term/midterm_hotel_data.csv')\n",
        "\n",
        "\n"
      ],
      "metadata": {
        "id": "OQePLD0R6O_O"
      },
      "execution_count": null,
      "outputs": []
    },
    {
      "cell_type": "code",
      "source": [
        "# mengisi value data numeric dengan median dan mengubah data float menjadi numeric\n",
        "numeric_df = df.select_dtypes(include=['number'])\n",
        "df[numeric_df.columns] = df[numeric_df.columns].fillna(numeric_df.median())\n",
        "df['adults'] = df['adults'].fillna(df['adults'].median())\n",
        "\n",
        "#mengisi data kategorical\n",
        "df['country'] = df['country'].fillna('Unknown')\n",
        "\n",
        "# hapus kolom index bawaan\n",
        "df = df.loc[:, ~df.columns.str.contains('^Unnamed')]\n",
        "\n",
        "print(df)"
      ],
      "metadata": {
        "colab": {
          "base_uri": "https://localhost:8080/"
        },
        "id": "QS3A1sdkBVKr",
        "outputId": "77102f62-0bcd-43a8-a05b-37ddc9e3d9d8"
      },
      "execution_count": null,
      "outputs": [
        {
          "output_type": "stream",
          "name": "stdout",
          "text": [
            "               hotel  is_canceled  lead_time  arrival_date_year  \\\n",
            "0       Resort Hotel            0      342.0               2015   \n",
            "1       Resort Hotel            0      737.0               2015   \n",
            "2       Resort Hotel            0        7.0               2015   \n",
            "3       Resort Hotel            0       13.0               2015   \n",
            "4       Resort Hotel            0        0.0               2015   \n",
            "...              ...          ...        ...                ...   \n",
            "119385    City Hotel            0       23.0               2017   \n",
            "119386    City Hotel            0        0.0               2017   \n",
            "119387    City Hotel            0        0.0               2017   \n",
            "119388    City Hotel            0      109.0               2017   \n",
            "119389    City Hotel            0      205.0               2017   \n",
            "\n",
            "       arrival_date_month  arrival_date_week_number  \\\n",
            "0                    July                        27   \n",
            "1                    July                        27   \n",
            "2                    July                        27   \n",
            "3                    July                        27   \n",
            "4                    July                        27   \n",
            "...                   ...                       ...   \n",
            "119385             August                        35   \n",
            "119386             August                        35   \n",
            "119387             August                        35   \n",
            "119388             August                        35   \n",
            "119389             August                        35   \n",
            "\n",
            "        arrival_date_day_of_month  stays_in_weekend_nights  \\\n",
            "0                               1                      1.0   \n",
            "1                               1                      0.0   \n",
            "2                               1                      1.0   \n",
            "3                               1                      0.0   \n",
            "4                               1                      0.0   \n",
            "...                           ...                      ...   \n",
            "119385                         30                      2.0   \n",
            "119386                         31                      1.0   \n",
            "119387                         31                      2.0   \n",
            "119388                         31                      1.0   \n",
            "119389                         29                      1.0   \n",
            "\n",
            "        stays_in_week_nights  adults  ...  customer_type     adr  \\\n",
            "0                          0     2.0  ...      Transient    0.00   \n",
            "1                          0     2.0  ...      Transient    0.00   \n",
            "2                          1     1.0  ...      Transient   75.00   \n",
            "3                          1     1.0  ...      Transient   95.00   \n",
            "4                          2     2.0  ...      Transient   98.00   \n",
            "...                      ...     ...  ...            ...     ...   \n",
            "119385                     5     2.0  ...      Transient   95.00   \n",
            "119386                     5     2.0  ...      Transient  225.43   \n",
            "119387                     5     2.0  ...      Transient  157.71   \n",
            "119388                     5     2.0  ...      Transient  104.40   \n",
            "119389                     7     2.0  ...      Transient  151.20   \n",
            "\n",
            "       required_car_parking_spaces total_of_special_requests  \\\n",
            "0                                0                       0.0   \n",
            "1                                0                       0.0   \n",
            "2                                0                       0.0   \n",
            "3                                0                       0.0   \n",
            "4                                0                       0.0   \n",
            "...                            ...                       ...   \n",
            "119385                           0                       0.0   \n",
            "119386                           0                       2.0   \n",
            "119387                           0                       0.0   \n",
            "119388                           0                       0.0   \n",
            "119389                           0                       0.0   \n",
            "\n",
            "       reservation_status reservation_status_date                name  \\\n",
            "0               Check-Out              2015-07-01       Ernest Barnes   \n",
            "1               Check-Out              2015-07-01        Andrea Baker   \n",
            "2               Check-Out              2015-07-02      Rebecca Parker   \n",
            "3               Check-Out              2015-07-02        Laura Murray   \n",
            "4               Check-Out              2015-07-03         Linda Hines   \n",
            "...                   ...                     ...                 ...   \n",
            "119385          Check-Out              2017-09-06     Claudia Johnson   \n",
            "119386          Check-Out              2017-09-07      Wesley Aguilar   \n",
            "119387          Check-Out              2017-09-07        Mary Morales   \n",
            "119388          Check-Out              2017-09-07  Caroline Conley MD   \n",
            "119389          Check-Out              2017-09-07      Ariana Michael   \n",
            "\n",
            "                              email  phone-number       credit_card  \n",
            "0       Ernest.Barnes31@outlook.com  669-792-1661  ************4322  \n",
            "1            Andrea_Baker94@aol.com  858-637-6955  ************9157  \n",
            "2        Rebecca_Parker@comcast.net  652-885-2745  ************3734  \n",
            "3                 Laura_M@gmail.com  364-656-8427  ************5677  \n",
            "4                LHines@verizon.com  713-226-5883  ************5498  \n",
            "...                             ...           ...               ...  \n",
            "119385          Claudia.J@yahoo.com  403-092-5582  ************8647  \n",
            "119386         WAguilar@xfinity.com  238-763-0612  ************4333  \n",
            "119387     Mary_Morales@hotmail.com  395-518-4100  ************1821  \n",
            "119388      MD_Caroline@comcast.net  531-528-1017  ************7860  \n",
            "119389         Ariana_M@xfinity.com  422-804-6403  ************4482  \n",
            "\n",
            "[119390 rows x 36 columns]\n"
          ]
        }
      ]
    },
    {
      "cell_type": "code",
      "source": [
        "# Mengubah seluruh kolom teks menjadi huruf kecil\n",
        "df = df.applymap(lambda s: s.lower() if type(s) == str else s)\n",
        "\n",
        "# Menampilkan dataset setelah perubahan\n",
        "print(df.head())\n"
      ],
      "metadata": {
        "id": "TKVZHKggCtGz",
        "colab": {
          "base_uri": "https://localhost:8080/"
        },
        "outputId": "33c1cd28-a527-444b-8fa5-0e4fe3fbf016"
      },
      "execution_count": null,
      "outputs": [
        {
          "output_type": "stream",
          "name": "stderr",
          "text": [
            "<ipython-input-5-7a5d4dc961c0>:2: FutureWarning: DataFrame.applymap has been deprecated. Use DataFrame.map instead.\n",
            "  df = df.applymap(lambda s: s.lower() if type(s) == str else s)\n"
          ]
        },
        {
          "output_type": "stream",
          "name": "stdout",
          "text": [
            "   Unnamed: 0         hotel  is_canceled  lead_time  arrival_date_year  \\\n",
            "0           0  resort hotel            0      342.0               2015   \n",
            "1           1  resort hotel            0      737.0               2015   \n",
            "2           2  resort hotel            0        7.0               2015   \n",
            "3           3  resort hotel            0       13.0               2015   \n",
            "4           4  resort hotel            0        0.0               2015   \n",
            "\n",
            "  arrival_date_month  arrival_date_week_number  arrival_date_day_of_month  \\\n",
            "0               july                        27                          1   \n",
            "1               july                        27                          1   \n",
            "2               july                        27                          1   \n",
            "3               july                        27                          1   \n",
            "4               july                        27                          1   \n",
            "\n",
            "   stays_in_weekend_nights  stays_in_week_nights  ...  customer_type   adr  \\\n",
            "0                      NaN                     0  ...      transient   0.0   \n",
            "1                      0.0                     0  ...      transient   0.0   \n",
            "2                      NaN                     1  ...      transient  75.0   \n",
            "3                      0.0                     1  ...      transient   NaN   \n",
            "4                      0.0                     2  ...      transient  98.0   \n",
            "\n",
            "   required_car_parking_spaces total_of_special_requests reservation_status  \\\n",
            "0                            0                       0.0          check-out   \n",
            "1                            0                       0.0          check-out   \n",
            "2                            0                       0.0          check-out   \n",
            "3                            0                       0.0          check-out   \n",
            "4                            0                       0.0          check-out   \n",
            "\n",
            "  reservation_status_date            name                        email  \\\n",
            "0              2015-07-01   ernest barnes  ernest.barnes31@outlook.com   \n",
            "1              2015-07-01    andrea baker       andrea_baker94@aol.com   \n",
            "2              2015-07-02  rebecca parker   rebecca_parker@comcast.net   \n",
            "3              2015-07-02    laura murray            laura_m@gmail.com   \n",
            "4              2015-07-03     linda hines           lhines@verizon.com   \n",
            "\n",
            "   phone-number       credit_card  \n",
            "0  669-792-1661  ************4322  \n",
            "1  858-637-6955  ************9157  \n",
            "2  652-885-2745  ************3734  \n",
            "3  364-656-8427  ************5677  \n",
            "4  713-226-5883  ************5498  \n",
            "\n",
            "[5 rows x 37 columns]\n"
          ]
        }
      ]
    },
    {
      "cell_type": "code",
      "source": [
        "# Normalisasi teks untuk seluruh kolom teks (semua huruf kecil dan hapus spasi tambahan)\n",
        "df_cleaned = df.applymap(lambda s: s.lower().strip() if type(s) == str else s)\n",
        "\n",
        "# Memeriksa nilai unik di kolom teks tertentu untuk melihat inkonsistensi\n",
        "for col in df_cleaned.select_dtypes(include='object'):\n",
        "    print(f\"Unique values in {col}: {df_cleaned[col].unique()[:10]}\")  # Tampilkan hanya 10 pertama\n",
        "\n"
      ],
      "metadata": {
        "id": "obkD6-r1UhHU",
        "outputId": "ff9ed00c-f486-48b6-9e64-66a41bfe6c1d",
        "colab": {
          "base_uri": "https://localhost:8080/"
        }
      },
      "execution_count": null,
      "outputs": [
        {
          "output_type": "stream",
          "name": "stderr",
          "text": [
            "<ipython-input-8-e6a9cbf7a12b>:2: FutureWarning: DataFrame.applymap has been deprecated. Use DataFrame.map instead.\n",
            "  df_cleaned = df.applymap(lambda s: s.lower().strip() if type(s) == str else s)\n"
          ]
        },
        {
          "output_type": "stream",
          "name": "stdout",
          "text": [
            "Unique values in hotel: ['resort hotel' 'city hotel']\n",
            "Unique values in arrival_date_month: ['july' 'august' 'september' 'october' 'november' 'december' 'january'\n",
            " 'february' 'march' 'april']\n",
            "Unique values in meal: ['bb' 'fb' 'hb' 'sc' 'undefined']\n",
            "Unique values in country: ['prt' 'gbr' 'usa' 'esp' 'irl' 'fra' nan 'rou' 'nor' 'omn']\n",
            "Unique values in market_segment: ['direct' 'corporate' 'online ta' 'offline ta/to' 'complementary' 'groups'\n",
            " 'undefined' 'aviation']\n",
            "Unique values in distribution_channel: ['direct' 'corporate' 'ta/to' 'undefined' 'gds']\n",
            "Unique values in reserved_room_type: ['c' 'a' 'd' 'e' 'g' 'f' 'h' 'l' 'p' 'b']\n",
            "Unique values in assigned_room_type: ['c' 'a' 'd' 'e' 'g' 'f' 'i' 'b' 'h' 'p']\n",
            "Unique values in deposit_type: ['no deposit' 'refundable' 'non refund']\n",
            "Unique values in customer_type: ['transient' 'contract' 'transient-party' 'group']\n",
            "Unique values in reservation_status: ['check-out' 'canceled' 'no-show']\n",
            "Unique values in reservation_status_date: ['2015-07-01' '2015-07-02' '2015-07-03' '2015-05-06' '2015-04-22'\n",
            " '2015-06-23' '2015-07-05' '2015-07-06' '2015-07-07' '2015-07-08']\n",
            "Unique values in name: ['ernest barnes' 'andrea baker' 'rebecca parker' 'laura murray'\n",
            " 'linda hines' 'jasmine fletcher' 'dylan rangel' 'william velez'\n",
            " 'steven murphy' 'michael moore']\n",
            "Unique values in email: ['ernest.barnes31@outlook.com' 'andrea_baker94@aol.com'\n",
            " 'rebecca_parker@comcast.net' 'laura_m@gmail.com' 'lhines@verizon.com'\n",
            " 'jfletcher43@xfinity.com' 'rangel.dylan@comcast.net'\n",
            " 'velez_william@mail.com' 'steven.murphy54@aol.com'\n",
            " 'michaelmoore81@outlook.com']\n",
            "Unique values in phone-number: ['669-792-1661' '858-637-6955' '652-885-2745' '364-656-8427'\n",
            " '713-226-5883' '190-271-6743' '420-332-5209' '286-669-4333'\n",
            " '341-726-5787' '316-648-6176']\n",
            "Unique values in credit_card: ['************4322' '************9157' '************3734'\n",
            " '************5677' '************5498' '************9263'\n",
            " '************6994' '************8729' '************3639'\n",
            " '************9190']\n"
          ]
        }
      ]
    },
    {
      "cell_type": "code",
      "source": [
        "# Menambahkan kolom baru yang menyatakan apakah tanggal valid atau NaT\n",
        "df['is_valid_date'] = df['arrival_date_year'].notnull()\n",
        "\n",
        "# Visualisasi distribusi antara valid dates dan NaT\n",
        "plt.figure(figsize=(6, 4))\n",
        "sns.countplot(x='is_valid_date', data=df, palette='coolwarm')\n",
        "plt.title(\"Distribusi Tanggal Valid vs NaT\")\n",
        "plt.xlabel(\"Valid Date (True = Valid, False = NaT)\")\n",
        "plt.ylabel(\"Jumlah\")\n",
        "plt.show()\n"
      ],
      "metadata": {
        "id": "odnQfMwtb_mQ",
        "outputId": "2f8f3112-8ca5-454f-d764-d8c4c50fc001",
        "colab": {
          "base_uri": "https://localhost:8080/",
          "height": 517
        }
      },
      "execution_count": null,
      "outputs": [
        {
          "output_type": "stream",
          "name": "stderr",
          "text": [
            "<ipython-input-19-68beb37dc41b>:6: FutureWarning: \n",
            "\n",
            "Passing `palette` without assigning `hue` is deprecated and will be removed in v0.14.0. Assign the `x` variable to `hue` and set `legend=False` for the same effect.\n",
            "\n",
            "  sns.countplot(x='is_valid_date', data=df, palette='coolwarm')\n"
          ]
        },
        {
          "output_type": "display_data",
          "data": {
            "text/plain": [
              "<Figure size 600x400 with 1 Axes>"
            ],
            "image/png": "[encoded data removed]"
          },
          "metadata": {}
        }
      ]
    },
    {
      "cell_type": "code",
      "source": [
        "# Mengganti NaN dengan median untuk semua kolom numerik\n",
        "numeric_df = df.select_dtypes(include=['number']) # Seleksi kolom numerik saja\n",
        "df[numeric_df.columns] = df[numeric_df.columns].fillna(numeric_df.median()) # Isi NaN pada kolom numerik dengan median\n",
        "\n",
        "# Mengganti NaN di kolom kategorikal dengan \"unknown\"\n",
        "categorical_df = df.select_dtypes(include=['object'])  # Seleksi kolom kategorikal\n",
        "df[categorical_df.columns] = df[categorical_df.columns].fillna('unknown')  # Isi NaN pada kolom kategorikal dengan 'unknown'\n",
        "\n",
        "# Memeriksa jumlah NaN setelah penggantian\n",
        "print(f\"Jumlah NaN setelah penggantian: {df.isnull().sum().sum()}\")\n",
        "\n",
        "# Menyimpan dataset yang sudah diperbarui ke Google Drive\n",
        "output_file_path = '/content/drive/MyDrive/data_set_mid_term/midterm_hotel_data.csv'\n",
        "df.to_csv(output_file_path, index=False)\n",
        "\n",
        "print(f\"Dataset yang sudah diperbarui disimpan di: {output_file_path}\")"
      ],
      "metadata": {
        "id": "H8xgP0MJiZdj",
        "outputId": "fea337da-ac05-46dd-d4cb-594a56576980",
        "colab": {
          "base_uri": "https://localhost:8080/"
        }
      },
      "execution_count": null,
      "outputs": [
        {
          "output_type": "stream",
          "name": "stdout",
          "text": [
            "Jumlah NaN setelah penggantian: 0\n",
            "Dataset yang sudah diperbarui disimpan di: /content/drive/MyDrive/data_set_mid_term/midterm_hotel_data.csv\n"
          ]
        }
      ]
    },
    {
      "cell_type": "code",
      "source": [],
      "metadata": {
        "id": "y3ZzCK-0nVtN"
      },
      "execution_count": null,
      "outputs": []
    }
  ]
}